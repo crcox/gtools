{
 "cells": [
  {
   "cell_type": "markdown",
   "metadata": {},
   "source": [
    "# Read States from Google Cloud Storage\n",
    "\n",
    "Interacting with Google Cloud Storage (GCS) requires authenticating, establishing a client to connect to a project, and referencing a bucket within the project. This bucket \"pointer\" will be interacted with most directly when retrieving data from the GCS.\n",
    "\n",
    "## The `gcloud` module\n",
    "The `gcloud` model is a thin wrapper around the `google.cloud.storage` module that implements solutions to a few common problems we will face while interacting with the model data on GCS. `list_*` functions take the bucket pointer as the first argument and will return a list of named tuples. `*FromBlob` functions take a blob as the first argument and return a single named tuple. The definitions of these tuples are provided below for reference. `*ToFile` functions take a blob as the first argument, by default, will save the file locally mirroring the directory structure on GCS. The \"name\" field listed last for each named tuple is meant to hold a copy of the `blob.name`. This preseves information about the GCS directory structure.\n",
    "\n",
    "```python\n",
    "ModelInfo = namedtuple(\"ModelInfo\", [\n",
    "    \"wandb_id\", \"lesion_start_epoch\", \"lesion_type\", \"model_type\", \"run_name\",\n",
    "    \"train_data\", \"test_data\", \"mask_value\", \"lstm_units\", \"learning_rate\",\n",
    "    \"batch_size\", \"frequency_scale_k\", \"epochs\", \"seed\", \"orth_features\",\n",
    "    \"phon_features\", \"phon_max_length\", \"name\", \"bucket_name\"])\n",
    "\n",
    "\n",
    "BaseModelState = namedtuple(\"ModelState\", [\n",
    "    \"encoder_cell_state\", \"encoder_hidden_state\", \"decoder_cell_state\",\n",
    "    \"decoder_hidden_state\", \"output\", \"name\", \"bucket_name\"])\n",
    "\n",
    "\n",
    "class ModelState(BaseModelState):\n",
    "    __slots__ = ()\n",
    "    def nitems(self):\n",
    "        return self.encoder_cell.shape[0]\n",
    "\n",
    "    def nunits(self):\n",
    "        return self.encoder_cell.shape[-1]\n",
    "\n",
    "    def phon_max_length(self):\n",
    "        return self.output.shape[1]\n",
    "```"
   ]
  },
  {
   "cell_type": "markdown",
   "metadata": {},
   "source": [
    "## Mass-downloads\n",
    "If you have sufficient storage locally, you may wish to download some or all of the GCS dataset. This may be necessary if the cost of retrieving large datasets from GCS becomes untenable. The `download_many_blobs_with_transfer_manager` and `download_bucket_with_transfer_manager` functions are taken from Google's documentation (with minor revision, to assume that a bucket reference already exists) and are meant to facilitate this. Like the `*ToFile` functions, the default behavior is to let `blob.name` dictate the filename. The `destination_directory` argument to these functions allows specifying a root of the GCS directory structure somewhere other than the current working directory. The default value, `\"\"`, implies the current working directory."
   ]
  },
  {
   "cell_type": "markdown",
   "metadata": {},
   "source": [
    "## Worked example\n",
    "First, import packages and setup the environment."
   ]
  },
  {
   "cell_type": "code",
   "execution_count": null,
   "metadata": {},
   "outputs": [],
   "source": [
    "import os\n",
    "from gtools import gcloud\n",
    "from google.cloud.storage import client\n",
    "\n",
    "os.environ[\"GOOGLE_APPLICATION_CREDENTIALS\"] = \"/home/chriscox/.config/gcp_read_only.json\"\n",
    "project_name = \"time-varying-reader-1\"\n",
    "bucket_name = \"time-varying-reader-runs\"\n",
    "gcs = client.Client(project=project_name)\n",
    "B = gcs.bucket(bucket_name=bucket_name)"
   ]
  },
  {
   "cell_type": "markdown",
   "metadata": {},
   "source": [
    "Then, pick a run that you want to pull data from."
   ]
  },
  {
   "cell_type": "code",
   "execution_count": null,
   "metadata": {},
   "outputs": [],
   "source": [
    "run_name = \"s200_intact_freeze_phon\""
   ]
  },
  {
   "cell_type": "markdown",
   "metadata": {},
   "source": [
    "Pull info to guide selection of model and epoch. N.B., `list_model_info()` returns ModelInfo tuples, which means data is downloaded. `list_epoch_blobs` just returns references to blobs and a little metadata, and the epoch state data must be retrieved later."
   ]
  },
  {
   "cell_type": "code",
   "execution_count": null,
   "metadata": {},
   "outputs": [],
   "source": [
    "model_info = gcloud.list_model_info(B, run_name)\n",
    "wandb_id = model_info[-1].wandb_id\n",
    "epochs = gcloud.list_epoch_blobs(B, run_name, wandb_id)"
   ]
  },
  {
   "cell_type": "markdown",
   "metadata": {},
   "source": [
    "### Download the state data\n",
    "N.B., this will be a large download (~500 MB)\n"
   ]
  },
  {
   "cell_type": "code",
   "execution_count": null,
   "metadata": {},
   "outputs": [],
   "source": [
    "m = gcloud.ModelStateFromBlob(epochs[-1])"
   ]
  },
  {
   "cell_type": "markdown",
   "metadata": {},
   "source": [
    "### Write downloaded data to file"
   ]
  },
  {
   "cell_type": "code",
   "execution_count": null,
   "metadata": {},
   "outputs": [],
   "source": [
    "gcloud.ModelInfoToFile(model_info[-1], bucket_name)\n",
    "gcloud.ModelStateToFile(m, bucket_name)"
   ]
  },
  {
   "cell_type": "markdown",
   "metadata": {},
   "source": [
    "### Write directly to file (picking a new model and epoch)\n",
    "This will involve a large download of epoch state data (~500 MB)."
   ]
  },
  {
   "cell_type": "code",
   "execution_count": null,
   "metadata": {},
   "outputs": [],
   "source": [
    "model_info_blobs = gcloud.list_model_info_blobs(B, run_name)\n",
    "config_from_blob = gcloud.ModelInfoFromBlob(model_info_blobs[0])\n",
    "wandb_id = config_from_blob.wandb_id\n",
    "epochs = gcloud.list_epoch_blobs(B, run_name, wandb_id)\n",
    "gcloud.BlobToFile(model_info_blobs[0])\n",
    "# N.B., this will be a large download (~500 MB)\n",
    "gcloud.BlobToFile(epochs[-1])"
   ]
  },
  {
   "cell_type": "markdown",
   "metadata": {},
   "source": [
    "## Read from file"
   ]
  },
  {
   "cell_type": "code",
   "execution_count": null,
   "metadata": {},
   "outputs": [],
   "source": [
    "config_from_file = gcloud.ModelInfoFromFile(\n",
    "    \"buckets/time-varying-reader-runs/s200_intact_freeze_phon/1nexxgef/config.json\",\n",
    "    \"time-varying-reader-runs\")\n",
    "print(config_from_blob)\n",
    "print(config_from_file)"
   ]
  }
 ],
 "metadata": {
  "kernelspec": {
   "display_name": ".env",
   "language": "python",
   "name": "python3"
  },
  "language_info": {
   "codemirror_mode": {
    "name": "ipython",
    "version": 3
   },
   "file_extension": ".py",
   "mimetype": "text/x-python",
   "name": "python",
   "nbconvert_exporter": "python",
   "pygments_lexer": "ipython3",
   "version": "3.11.2"
  }
 },
 "nbformat": 4,
 "nbformat_minor": 2
}
